{
 "cells": [
  {
   "cell_type": "code",
   "execution_count": 1,
   "id": "180db244",
   "metadata": {},
   "outputs": [],
   "source": [
    "import pandas as pd\n",
    "import numpy as np\n",
    "from scipy.stats import chi2_contingency, beta\n",
    "\n",
    "from sklearn.model_selection import train_test_split\n",
    "from IPython.core.interactiveshell import InteractiveShell\n",
    "InteractiveShell.ast_node_interactivity = \"all\"\n",
    "import matplotlib.pyplot as plt "
   ]
  },
  {
   "cell_type": "markdown",
   "id": "49f7e263",
   "metadata": {},
   "source": [
    "## Experiment Definition\n",
    "\n",
    "We're testing a new Variant version of way to show customer when checking out. Guest rating of Hotels v.s. Start ratings\n",
    "\n",
    "Control: Star rating of hotels ( Text based ) \\\n",
    "Treatment: Guest Rating of Hotels ( visual based)\n",
    "\n",
    "### Hypothesis\n",
    "By replacing start ratings with cusotmers guest rting will reinforce confidence that the user has made the right choice and therefore increase their LIKELIHOOD to purchase\n",
    "\n",
    "\n",
    "How do you think the experiment will work?\\\n",
    "Do we have actionable next steps laid out?"
   ]
  },
  {
   "cell_type": "code",
   "execution_count": 2,
   "id": "3aa95e9b",
   "metadata": {},
   "outputs": [],
   "source": [
    "df_raw = pd.read_csv('Files/sample_data.csv')"
   ]
  },
  {
   "cell_type": "code",
   "execution_count": 3,
   "id": "d8808144",
   "metadata": {},
   "outputs": [
    {
     "data": {
      "text/html": [
       "<div>\n",
       "<style scoped>\n",
       "    .dataframe tbody tr th:only-of-type {\n",
       "        vertical-align: middle;\n",
       "    }\n",
       "\n",
       "    .dataframe tbody tr th {\n",
       "        vertical-align: top;\n",
       "    }\n",
       "\n",
       "    .dataframe thead th {\n",
       "        text-align: right;\n",
       "    }\n",
       "</style>\n",
       "<table border=\"1\" class=\"dataframe\">\n",
       "  <thead>\n",
       "    <tr style=\"text-align: right;\">\n",
       "      <th></th>\n",
       "      <th>user_id</th>\n",
       "      <th>experiment_variant_code</th>\n",
       "      <th>new_return_visitor</th>\n",
       "      <th>platform_type</th>\n",
       "      <th>posa_super_region</th>\n",
       "      <th>marketing_channel</th>\n",
       "      <th>orders</th>\n",
       "      <th>room_nights</th>\n",
       "      <th>booking_gbv</th>\n",
       "    </tr>\n",
       "  </thead>\n",
       "  <tbody>\n",
       "    <tr>\n",
       "      <th>0</th>\n",
       "      <td>1</td>\n",
       "      <td>VARIANT</td>\n",
       "      <td>RETURN</td>\n",
       "      <td>TABWEB</td>\n",
       "      <td>EMEA</td>\n",
       "      <td>SEM</td>\n",
       "      <td>0</td>\n",
       "      <td>0</td>\n",
       "      <td>0.0</td>\n",
       "    </tr>\n",
       "    <tr>\n",
       "      <th>1</th>\n",
       "      <td>2</td>\n",
       "      <td>CONTROL</td>\n",
       "      <td>NEW</td>\n",
       "      <td>MOBILE</td>\n",
       "      <td>APAC</td>\n",
       "      <td>SEM</td>\n",
       "      <td>0</td>\n",
       "      <td>0</td>\n",
       "      <td>0.0</td>\n",
       "    </tr>\n",
       "  </tbody>\n",
       "</table>\n",
       "</div>"
      ],
      "text/plain": [
       "   user_id experiment_variant_code new_return_visitor platform_type  \\\n",
       "0        1                 VARIANT             RETURN        TABWEB   \n",
       "1        2                 CONTROL                NEW        MOBILE   \n",
       "\n",
       "  posa_super_region marketing_channel  orders  room_nights  booking_gbv  \n",
       "0              EMEA               SEM       0            0          0.0  \n",
       "1              APAC               SEM       0            0          0.0  "
      ]
     },
     "execution_count": 3,
     "metadata": {},
     "output_type": "execute_result"
    },
    {
     "data": {
      "text/plain": [
       "(2003501, 9)"
      ]
     },
     "execution_count": 3,
     "metadata": {},
     "output_type": "execute_result"
    },
    {
     "data": {
      "text/plain": [
       "False"
      ]
     },
     "execution_count": 3,
     "metadata": {},
     "output_type": "execute_result"
    },
    {
     "data": {
      "text/plain": [
       "(2003501, 9)"
      ]
     },
     "execution_count": 3,
     "metadata": {},
     "output_type": "execute_result"
    }
   ],
   "source": [
    "df_raw.head(2)\n",
    "df_raw.shape\n",
    "#checking NAs\n",
    "df_raw.isnull().values.any()\n",
    "\n",
    "\n",
    "df = df_raw\n",
    "df.shape"
   ]
  },
  {
   "cell_type": "code",
   "execution_count": 4,
   "id": "9104e535",
   "metadata": {},
   "outputs": [
    {
     "name": "stdout",
     "output_type": "stream",
     "text": [
      "Percentage of users in control: 50%\n"
     ]
    }
   ],
   "source": [
    "#Check the balance of test v.s. chontrol size\n",
    "print(f\"Percentage of users in control: {round(df[df['experiment_variant_code']=='CONTROL'].shape[0] * 100 / df.shape[0])}%\")\n"
   ]
  },
  {
   "cell_type": "markdown",
   "id": "ea91aba5",
   "metadata": {},
   "source": [
    "## data preprocessing"
   ]
  },
  {
   "cell_type": "code",
   "execution_count": 5,
   "id": "2f798ac0",
   "metadata": {},
   "outputs": [
    {
     "data": {
      "text/plain": [
       "(1988892, 9)"
      ]
     },
     "execution_count": 5,
     "metadata": {},
     "output_type": "execute_result"
    },
    {
     "data": {
      "text/plain": [
       "0    1819470\n",
       "1     169422\n",
       "Name: Converted, dtype: int64"
      ]
     },
     "execution_count": 5,
     "metadata": {},
     "output_type": "execute_result"
    },
    {
     "data": {
      "text/plain": [
       "(1988892, 10)"
      ]
     },
     "execution_count": 5,
     "metadata": {},
     "output_type": "execute_result"
    },
    {
     "data": {
      "text/html": [
       "<div>\n",
       "<style scoped>\n",
       "    .dataframe tbody tr th:only-of-type {\n",
       "        vertical-align: middle;\n",
       "    }\n",
       "\n",
       "    .dataframe tbody tr th {\n",
       "        vertical-align: top;\n",
       "    }\n",
       "\n",
       "    .dataframe thead th {\n",
       "        text-align: right;\n",
       "    }\n",
       "</style>\n",
       "<table border=\"1\" class=\"dataframe\">\n",
       "  <thead>\n",
       "    <tr style=\"text-align: right;\">\n",
       "      <th></th>\n",
       "      <th>platform_type</th>\n",
       "      <th>DESKTOP</th>\n",
       "      <th>IAPP</th>\n",
       "      <th>IPAD</th>\n",
       "      <th>MOBILE</th>\n",
       "      <th>TABWEB</th>\n",
       "      <th>UNKNOWN</th>\n",
       "    </tr>\n",
       "    <tr>\n",
       "      <th>experiment_variant_code</th>\n",
       "      <th>new_return_visitor</th>\n",
       "      <th></th>\n",
       "      <th></th>\n",
       "      <th></th>\n",
       "      <th></th>\n",
       "      <th></th>\n",
       "      <th></th>\n",
       "    </tr>\n",
       "  </thead>\n",
       "  <tbody>\n",
       "    <tr>\n",
       "      <th rowspan=\"3\" valign=\"top\">CONTROL</th>\n",
       "      <th>NEW</th>\n",
       "      <td>235752</td>\n",
       "      <td>7</td>\n",
       "      <td>0</td>\n",
       "      <td>351102</td>\n",
       "      <td>34673</td>\n",
       "      <td>0</td>\n",
       "    </tr>\n",
       "    <tr>\n",
       "      <th>RETURN</th>\n",
       "      <td>170463</td>\n",
       "      <td>63</td>\n",
       "      <td>5</td>\n",
       "      <td>170218</td>\n",
       "      <td>21446</td>\n",
       "      <td>6</td>\n",
       "    </tr>\n",
       "    <tr>\n",
       "      <th>UNKNOWN</th>\n",
       "      <td>3322</td>\n",
       "      <td>2</td>\n",
       "      <td>0</td>\n",
       "      <td>6992</td>\n",
       "      <td>814</td>\n",
       "      <td>0</td>\n",
       "    </tr>\n",
       "    <tr>\n",
       "      <th rowspan=\"3\" valign=\"top\">VARIANT</th>\n",
       "      <th>NEW</th>\n",
       "      <td>236296</td>\n",
       "      <td>6</td>\n",
       "      <td>0</td>\n",
       "      <td>351202</td>\n",
       "      <td>35047</td>\n",
       "      <td>0</td>\n",
       "    </tr>\n",
       "    <tr>\n",
       "      <th>RETURN</th>\n",
       "      <td>169440</td>\n",
       "      <td>53</td>\n",
       "      <td>1</td>\n",
       "      <td>169565</td>\n",
       "      <td>21514</td>\n",
       "      <td>3</td>\n",
       "    </tr>\n",
       "    <tr>\n",
       "      <th>UNKNOWN</th>\n",
       "      <td>3251</td>\n",
       "      <td>0</td>\n",
       "      <td>0</td>\n",
       "      <td>6774</td>\n",
       "      <td>875</td>\n",
       "      <td>0</td>\n",
       "    </tr>\n",
       "  </tbody>\n",
       "</table>\n",
       "</div>"
      ],
      "text/plain": [
       "platform_type                               DESKTOP  IAPP  IPAD  MOBILE  \\\n",
       "experiment_variant_code new_return_visitor                                \n",
       "CONTROL                 NEW                  235752     7     0  351102   \n",
       "                        RETURN               170463    63     5  170218   \n",
       "                        UNKNOWN                3322     2     0    6992   \n",
       "VARIANT                 NEW                  236296     6     0  351202   \n",
       "                        RETURN               169440    53     1  169565   \n",
       "                        UNKNOWN                3251     0     0    6774   \n",
       "\n",
       "platform_type                               TABWEB  UNKNOWN  \n",
       "experiment_variant_code new_return_visitor                   \n",
       "CONTROL                 NEW                  34673        0  \n",
       "                        RETURN               21446        6  \n",
       "                        UNKNOWN                814        0  \n",
       "VARIANT                 NEW                  35047        0  \n",
       "                        RETURN               21514        3  \n",
       "                        UNKNOWN                875        0  "
      ]
     },
     "execution_count": 5,
     "metadata": {},
     "output_type": "execute_result"
    },
    {
     "data": {
      "text/html": [
       "<div>\n",
       "<style scoped>\n",
       "    .dataframe tbody tr th:only-of-type {\n",
       "        vertical-align: middle;\n",
       "    }\n",
       "\n",
       "    .dataframe tbody tr th {\n",
       "        vertical-align: top;\n",
       "    }\n",
       "\n",
       "    .dataframe thead th {\n",
       "        text-align: right;\n",
       "    }\n",
       "</style>\n",
       "<table border=\"1\" class=\"dataframe\">\n",
       "  <thead>\n",
       "    <tr style=\"text-align: right;\">\n",
       "      <th></th>\n",
       "      <th>posa_super_region</th>\n",
       "      <th>APAC</th>\n",
       "      <th>EMEA</th>\n",
       "      <th>LATAM</th>\n",
       "      <th>N_AM</th>\n",
       "      <th>UNKNOWN</th>\n",
       "    </tr>\n",
       "    <tr>\n",
       "      <th>experiment_variant_code</th>\n",
       "      <th>new_return_visitor</th>\n",
       "      <th></th>\n",
       "      <th></th>\n",
       "      <th></th>\n",
       "      <th></th>\n",
       "      <th></th>\n",
       "    </tr>\n",
       "  </thead>\n",
       "  <tbody>\n",
       "    <tr>\n",
       "      <th rowspan=\"3\" valign=\"top\">CONTROL</th>\n",
       "      <th>NEW</th>\n",
       "      <td>111431</td>\n",
       "      <td>246442</td>\n",
       "      <td>67317</td>\n",
       "      <td>190717</td>\n",
       "      <td>5627</td>\n",
       "    </tr>\n",
       "    <tr>\n",
       "      <th>RETURN</th>\n",
       "      <td>62114</td>\n",
       "      <td>139232</td>\n",
       "      <td>36417</td>\n",
       "      <td>121009</td>\n",
       "      <td>3429</td>\n",
       "    </tr>\n",
       "    <tr>\n",
       "      <th>UNKNOWN</th>\n",
       "      <td>789</td>\n",
       "      <td>4532</td>\n",
       "      <td>1002</td>\n",
       "      <td>4718</td>\n",
       "      <td>89</td>\n",
       "    </tr>\n",
       "    <tr>\n",
       "      <th rowspan=\"3\" valign=\"top\">VARIANT</th>\n",
       "      <th>NEW</th>\n",
       "      <td>111913</td>\n",
       "      <td>246275</td>\n",
       "      <td>67521</td>\n",
       "      <td>191114</td>\n",
       "      <td>5728</td>\n",
       "    </tr>\n",
       "    <tr>\n",
       "      <th>RETURN</th>\n",
       "      <td>61928</td>\n",
       "      <td>138868</td>\n",
       "      <td>36388</td>\n",
       "      <td>120093</td>\n",
       "      <td>3299</td>\n",
       "    </tr>\n",
       "    <tr>\n",
       "      <th>UNKNOWN</th>\n",
       "      <td>808</td>\n",
       "      <td>4478</td>\n",
       "      <td>1048</td>\n",
       "      <td>4479</td>\n",
       "      <td>87</td>\n",
       "    </tr>\n",
       "  </tbody>\n",
       "</table>\n",
       "</div>"
      ],
      "text/plain": [
       "posa_super_region                             APAC    EMEA  LATAM    N_AM  \\\n",
       "experiment_variant_code new_return_visitor                                  \n",
       "CONTROL                 NEW                 111431  246442  67317  190717   \n",
       "                        RETURN               62114  139232  36417  121009   \n",
       "                        UNKNOWN                789    4532   1002    4718   \n",
       "VARIANT                 NEW                 111913  246275  67521  191114   \n",
       "                        RETURN               61928  138868  36388  120093   \n",
       "                        UNKNOWN                808    4478   1048    4479   \n",
       "\n",
       "posa_super_region                           UNKNOWN  \n",
       "experiment_variant_code new_return_visitor           \n",
       "CONTROL                 NEW                    5627  \n",
       "                        RETURN                 3429  \n",
       "                        UNKNOWN                  89  \n",
       "VARIANT                 NEW                    5728  \n",
       "                        RETURN                 3299  \n",
       "                        UNKNOWN                  87  "
      ]
     },
     "execution_count": 5,
     "metadata": {},
     "output_type": "execute_result"
    },
    {
     "data": {
      "text/html": [
       "<div>\n",
       "<style scoped>\n",
       "    .dataframe tbody tr th:only-of-type {\n",
       "        vertical-align: middle;\n",
       "    }\n",
       "\n",
       "    .dataframe tbody tr th {\n",
       "        vertical-align: top;\n",
       "    }\n",
       "\n",
       "    .dataframe thead th {\n",
       "        text-align: right;\n",
       "    }\n",
       "</style>\n",
       "<table border=\"1\" class=\"dataframe\">\n",
       "  <thead>\n",
       "    <tr style=\"text-align: right;\">\n",
       "      <th></th>\n",
       "      <th>marketing_channel</th>\n",
       "      <th>DIRECT</th>\n",
       "      <th>EMAIL</th>\n",
       "      <th>META</th>\n",
       "      <th>SEM</th>\n",
       "      <th>SEO</th>\n",
       "    </tr>\n",
       "    <tr>\n",
       "      <th>experiment_variant_code</th>\n",
       "      <th>new_return_visitor</th>\n",
       "      <th></th>\n",
       "      <th></th>\n",
       "      <th></th>\n",
       "      <th></th>\n",
       "      <th></th>\n",
       "    </tr>\n",
       "  </thead>\n",
       "  <tbody>\n",
       "    <tr>\n",
       "      <th rowspan=\"3\" valign=\"top\">CONTROL</th>\n",
       "      <th>NEW</th>\n",
       "      <td>143850</td>\n",
       "      <td>25766</td>\n",
       "      <td>146972</td>\n",
       "      <td>248992</td>\n",
       "      <td>55954</td>\n",
       "    </tr>\n",
       "    <tr>\n",
       "      <th>RETURN</th>\n",
       "      <td>78859</td>\n",
       "      <td>41817</td>\n",
       "      <td>72912</td>\n",
       "      <td>135201</td>\n",
       "      <td>33412</td>\n",
       "    </tr>\n",
       "    <tr>\n",
       "      <th>UNKNOWN</th>\n",
       "      <td>3093</td>\n",
       "      <td>1575</td>\n",
       "      <td>1877</td>\n",
       "      <td>3743</td>\n",
       "      <td>842</td>\n",
       "    </tr>\n",
       "    <tr>\n",
       "      <th rowspan=\"3\" valign=\"top\">VARIANT</th>\n",
       "      <th>NEW</th>\n",
       "      <td>143450</td>\n",
       "      <td>26038</td>\n",
       "      <td>147934</td>\n",
       "      <td>248907</td>\n",
       "      <td>56222</td>\n",
       "    </tr>\n",
       "    <tr>\n",
       "      <th>RETURN</th>\n",
       "      <td>78844</td>\n",
       "      <td>41511</td>\n",
       "      <td>72249</td>\n",
       "      <td>135024</td>\n",
       "      <td>32948</td>\n",
       "    </tr>\n",
       "    <tr>\n",
       "      <th>UNKNOWN</th>\n",
       "      <td>3006</td>\n",
       "      <td>1578</td>\n",
       "      <td>1897</td>\n",
       "      <td>3581</td>\n",
       "      <td>838</td>\n",
       "    </tr>\n",
       "  </tbody>\n",
       "</table>\n",
       "</div>"
      ],
      "text/plain": [
       "marketing_channel                           DIRECT  EMAIL    META     SEM  \\\n",
       "experiment_variant_code new_return_visitor                                  \n",
       "CONTROL                 NEW                 143850  25766  146972  248992   \n",
       "                        RETURN               78859  41817   72912  135201   \n",
       "                        UNKNOWN               3093   1575    1877    3743   \n",
       "VARIANT                 NEW                 143450  26038  147934  248907   \n",
       "                        RETURN               78844  41511   72249  135024   \n",
       "                        UNKNOWN               3006   1578    1897    3581   \n",
       "\n",
       "marketing_channel                             SEO  \n",
       "experiment_variant_code new_return_visitor         \n",
       "CONTROL                 NEW                 55954  \n",
       "                        RETURN              33412  \n",
       "                        UNKNOWN               842  \n",
       "VARIANT                 NEW                 56222  \n",
       "                        RETURN              32948  \n",
       "                        UNKNOWN               838  "
      ]
     },
     "execution_count": 5,
     "metadata": {},
     "output_type": "execute_result"
    }
   ],
   "source": [
    "df = df[df['orders'] >= 0]\n",
    "df = df[df['room_nights'] >= 0]\n",
    "df = df[df['booking_gbv'] >= 0]\n",
    "\n",
    "df.shape\n",
    "\n",
    "df['Converted'] = np.where(df['orders']> 0, 1, 0)\n",
    "df['Converted'].value_counts()\n",
    "df.shape\n",
    "\n",
    "\n",
    "\n",
    "# df.groupby(['Converted', 'experiment_variant_code']).size().unstack(fill_value=0)\n",
    "\n",
    "df.groupby(['experiment_variant_code', 'new_return_visitor', 'platform_type']).size().unstack(fill_value=0)\n",
    "df.groupby(['experiment_variant_code', 'new_return_visitor', 'posa_super_region']).size().unstack(fill_value=0)\n",
    "df.groupby(['experiment_variant_code', 'new_return_visitor', 'marketing_channel']).size().unstack(fill_value=0)"
   ]
  },
  {
   "cell_type": "markdown",
   "id": "a9eb5f8a",
   "metadata": {},
   "source": [
    "## Frequentist Approach\n",
    "### Chi-squared test\n",
    "\n",
    "Ho:  Treatment and control groups are from the same dist | No evidence that user behavior are different\\\n",
    "H1:  Treatment and control groups are not from the same dist | Some evidence that user behavior are different\n"
   ]
  },
  {
   "cell_type": "code",
   "execution_count": 6,
   "id": "a75aa978",
   "metadata": {},
   "outputs": [
    {
     "data": {
      "text/plain": [
       "1988892"
      ]
     },
     "execution_count": 6,
     "metadata": {},
     "output_type": "execute_result"
    },
    {
     "name": "stdout",
     "output_type": "stream",
     "text": [
      "Percentage of users in control: 50%\n",
      "Treatment Conversion Rate: 8.533%\n",
      "Control Conversion Rate: 8.504%\n",
      "Lift = 0.029%\n"
     ]
    }
   ],
   "source": [
    "# Get Stats, creating stratified sub-samples of experimental data to \n",
    "# _, experiment_data = train_test_split(df, test_size=0.95, stratify=df[['experiment_variant_code','new_return_visitor','posa_super_region','marketing_channel']])\n",
    "experiment_data = df\n",
    "experiment_data.shape[0]\n",
    "\n",
    "print(f\"Percentage of users in control: {round(experiment_data[experiment_data['experiment_variant_code']=='CONTROL'].shape[0] * 100 / experiment_data.shape[0])}%\")\n",
    "\n",
    "control = experiment_data[experiment_data['experiment_variant_code']=='CONTROL']\n",
    "treatment = experiment_data[experiment_data['experiment_variant_code']=='VARIANT']\n",
    "\n",
    "control_conversion_perc = round(control['Converted'].sum() * 100/ control['Converted'].count(), 3)\n",
    "treatment_conversion_perc = round(treatment['Converted'].sum() * 100/ treatment['Converted'].count(), 3)\n",
    "lift = round(treatment_conversion_perc - control_conversion_perc, 3)\n",
    "\n",
    "print(f\"Treatment Conversion Rate: {treatment_conversion_perc}%\")\n",
    "print(f\"Control Conversion Rate: {control_conversion_perc}%\")\n",
    "print(f\"Lift = {lift}%\")"
   ]
  },
  {
   "cell_type": "code",
   "execution_count": null,
   "id": "dd782bcf",
   "metadata": {},
   "outputs": [],
   "source": []
  },
  {
   "cell_type": "code",
   "execution_count": 7,
   "id": "35a15bb3",
   "metadata": {},
   "outputs": [],
   "source": [
    "# Create Contingency Table for Chi Squared Test\n",
    "control_converted = control['Converted'].sum()\n",
    "treatment_converted = treatment['Converted'].sum()\n",
    "control_non_converted = control['Converted'].count() - control_converted\n",
    "treatment_non_converted = treatment['Converted'].count() - treatment_converted\n",
    "contingency_table = np.array([[control_converted, control_non_converted], \n",
    "                              [treatment_converted, treatment_non_converted]])"
   ]
  },
  {
   "cell_type": "code",
   "execution_count": 8,
   "id": "648ab7b0",
   "metadata": {},
   "outputs": [
    {
     "data": {
      "text/plain": [
       "array([[ 84606, 910259],\n",
       "       [ 84816, 909211]])"
      ]
     },
     "execution_count": 8,
     "metadata": {},
     "output_type": "execute_result"
    }
   ],
   "source": [
    "contingency_table"
   ]
  },
  {
   "cell_type": "code",
   "execution_count": 9,
   "id": "a2371ed2",
   "metadata": {},
   "outputs": [],
   "source": [
    "chi, p_value, _, _ = chi2_contingency(contingency_table, correction=False)"
   ]
  },
  {
   "cell_type": "code",
   "execution_count": 10,
   "id": "021f6be6",
   "metadata": {},
   "outputs": [
    {
     "data": {
      "text/plain": [
       "(0.5108533627159144, 0.4747696750723204)"
      ]
     },
     "execution_count": 10,
     "metadata": {},
     "output_type": "execute_result"
    }
   ],
   "source": [
    "chi, p_value"
   ]
  },
  {
   "cell_type": "code",
   "execution_count": null,
   "id": "532f47c0",
   "metadata": {},
   "outputs": [],
   "source": []
  },
  {
   "cell_type": "markdown",
   "id": "b083e40c",
   "metadata": {},
   "source": [
    "## Bayesian Approach\n",
    "\n",
    "Construct our prior distribution and have the experiment update the parameter to create posterier distributions. The distributions we will be using are conversion rate theregore we simulate with a beta distribution\n"
   ]
  },
  {
   "cell_type": "code",
   "execution_count": 11,
   "id": "2e6f6fb2",
   "metadata": {},
   "outputs": [],
   "source": [
    "# Create a stratified sample out of total\n",
    "\n",
    "experiment_data1, experiment_data0 = train_test_split(df, test_size=0.3, stratify=df[['experiment_variant_code', 'new_return_visitor','posa_super_region','marketing_channel']])\n"
   ]
  },
  {
   "cell_type": "code",
   "execution_count": 16,
   "id": "429f004f",
   "metadata": {},
   "outputs": [
    {
     "data": {
      "text/plain": [
       "596668"
      ]
     },
     "execution_count": 16,
     "metadata": {},
     "output_type": "execute_result"
    },
    {
     "data": {
      "text/plain": [
       "1392224"
      ]
     },
     "execution_count": 16,
     "metadata": {},
     "output_type": "execute_result"
    }
   ],
   "source": [
    "prior = experiment_data0[experiment_data0['experiment_variant_code'] =='CONTROL']\n",
    "experiment_data0.shape[0]\n",
    "experiment_data1.shape[0]"
   ]
  },
  {
   "cell_type": "code",
   "execution_count": 17,
   "id": "1b85bc5c",
   "metadata": {},
   "outputs": [],
   "source": [
    "prior_means = []\n",
    "for i in range(10000):\n",
    "    prior_means.append(prior.sample(1000)['Converted'].mean())"
   ]
  },
  {
   "cell_type": "code",
   "execution_count": 18,
   "id": "7caf8b91",
   "metadata": {},
   "outputs": [
    {
     "data": {
      "text/plain": [
       "10000"
      ]
     },
     "execution_count": 18,
     "metadata": {},
     "output_type": "execute_result"
    }
   ],
   "source": [
    "len(prior_means)\n"
   ]
  },
  {
   "cell_type": "code",
   "execution_count": 19,
   "id": "33696582",
   "metadata": {},
   "outputs": [
    {
     "data": {
      "text/plain": [
       "(87.28737510187528, 938.5963111606751)"
      ]
     },
     "execution_count": 19,
     "metadata": {},
     "output_type": "execute_result"
    }
   ],
   "source": [
    "# Model Beta Distribtion from sample means\n",
    "prior_alpha, prior_beta, _, _ = beta.fit(prior_means, floc=0, fscale=1)\n",
    "prior_alpha, prior_beta"
   ]
  },
  {
   "cell_type": "code",
   "execution_count": 20,
   "id": "51404f11",
   "metadata": {},
   "outputs": [
    {
     "name": "stdout",
     "output_type": "stream",
     "text": [
      "Treatment Conversion Rate: 8.536%\n",
      "Control Conversion Rate: 8.507%\n",
      "Lift = 0.003%\n"
     ]
    }
   ],
   "source": [
    "# Get Stats\n",
    "experiment_data = experiment_data1\n",
    "control = experiment_data[experiment_data['experiment_variant_code']=='CONTROL']\n",
    "treatment = experiment_data[experiment_data['experiment_variant_code']=='VARIANT']\n",
    "\n",
    "control_conversion_perc = round(control['Converted'].sum() * 100/ control['Converted'].count(), 3)\n",
    "treatment_conversion_perc = round(treatment['Converted'].sum() * 100/ treatment['Converted'].count(), 3)\n",
    "lift = round((treatment_conversion_perc - control_conversion_perc) / control_conversion_perc , 3)\n",
    "print(f\"Treatment Conversion Rate: {treatment_conversion_perc}%\")\n",
    "print(f\"Control Conversion Rate: {control_conversion_perc}%\")\n",
    "print(f\"Lift = {lift}%\")"
   ]
  },
  {
   "cell_type": "code",
   "execution_count": 23,
   "id": "67314437",
   "metadata": {},
   "outputs": [
    {
     "name": "stdout",
     "output_type": "stream",
     "text": [
      "Probability that treatment > control: 72.52%\n"
     ]
    }
   ],
   "source": [
    "control_converted = control['Converted'].sum()\n",
    "treatment_converted = treatment['Converted'].sum()\n",
    "control_non_converted = control['Converted'].count() - control_converted\n",
    "treatment_non_converted = treatment['Converted'].count() - treatment_converted\n",
    "# Update Prior parameters with experiment conversion rates\n",
    "posterior_control = beta(prior_alpha + control_converted, prior_beta + control_non_converted)\n",
    "posterior_treatment = beta(prior_alpha + treatment_converted, prior_beta + treatment_non_converted)\n",
    "# Sample from Posteriors, with Monte Carlo Simulation to 50000 trails\n",
    "n_trails = 5000\n",
    "control_samples  = pd.Series([posterior_control.rvs() \\\n",
    "                            for _ in range(n_trails)])\n",
    "\n",
    "treatment_samples = pd.Series([posterior_treatment.rvs() \\\n",
    "                            for _ in range(n_trails)])\n",
    "\n",
    "                               \n",
    "probability = np.mean(treatment_samples > control_samples)\n",
    "print(f\"Probability that treatment > control: {probability * 100}%\")\n",
    "\n"
   ]
  },
  {
   "cell_type": "code",
   "execution_count": 24,
   "id": "bda0f291",
   "metadata": {},
   "outputs": [
    {
     "data": {
      "image/png": "[encoded data removed]",
      "text/plain": [
       "<Figure size 432x288 with 1 Axes>"
      ]
     },
     "metadata": {
      "needs_background": "light"
     },
     "output_type": "display_data"
    },
    {
     "data": {
      "text/plain": [
       "<Figure size 432x288 with 0 Axes>"
      ]
     },
     "metadata": {},
     "output_type": "display_data"
    }
   ],
   "source": [
    "# Plot of the distribution of control and treamtment samples\n",
    "bins = np.linspace(0.08, 0.1, 500)\n",
    "_ =plt.hist(control_samples, bins, alpha=0.5, label='Control Sample')\n",
    "_ =plt.hist(treatment_samples, bins, alpha=0.5, label='Treatment Sample')\n",
    "_ =plt.legend(loc='upper right')\n",
    "plt.show()\n",
    "\n",
    "plt.savefig('Bayesian.png')\n",
    "\n",
    "\n",
    "# Brelativer = treatment_samples/control_samples\n",
    "# Brelativer.hist()"
   ]
  },
  {
   "cell_type": "code",
   "execution_count": 40,
   "id": "dfe417ed",
   "metadata": {},
   "outputs": [
    {
     "name": "stdout",
     "output_type": "stream",
     "text": [
      "Control Posterior: Mean: 0.08487219049141163, Variance: 1.1137381418893422e-07\n",
      "Treatment Posterior: Mean: 0.08521817414194399, Variance: 1.1188020796669954e-07\n"
     ]
    }
   ],
   "source": [
    "(control_mu), (control_var) = posterior_control.stats()\n",
    "(treatment_mu), (treatment_var) = posterior_treatment.stats()\n",
    "print(f\"Control Posterior: Mean: {control_mu}, Variance: {control_var}\") \n",
    "print(f\"Treatment Posterior: Mean: {treatment_mu}, Variance: {treatment_var}\") "
   ]
  },
  {
   "cell_type": "code",
   "execution_count": 37,
   "id": "64dcd343",
   "metadata": {},
   "outputs": [
    {
     "name": "stdout",
     "output_type": "stream",
     "text": [
      "Probability that we are seeing a .5% lift: 43.43%\n"
     ]
    }
   ],
   "source": [
    "lift_percentage = (treatment_samples - control_samples) / control_samples\n",
    "print(f\"Probability that we are seeing a .5% lift: {np.mean((100 * lift_percentage) > 0.5) * 100}%\")"
   ]
  },
  {
   "cell_type": "code",
   "execution_count": null,
   "id": "2267fe24",
   "metadata": {},
   "outputs": [],
   "source": []
  },
  {
   "cell_type": "code",
   "execution_count": null,
   "id": "825b91f8",
   "metadata": {},
   "outputs": [],
   "source": []
  }
 ],
 "metadata": {
  "kernelspec": {
   "display_name": "Python 3 (ipykernel)",
   "language": "python",
   "name": "python3"
  },
  "language_info": {
   "codemirror_mode": {
    "name": "ipython",
    "version": 3
   },
   "file_extension": ".py",
   "mimetype": "text/x-python",
   "name": "python",
   "nbconvert_exporter": "python",
   "pygments_lexer": "ipython3",
   "version": "3.9.12"
  }
 },
 "nbformat": 4,
 "nbformat_minor": 5
}
